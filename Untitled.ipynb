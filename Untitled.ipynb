{
 "cells": [
  {
   "cell_type": "markdown",
   "metadata": {},
   "source": [
    "Simple code for Ab42 using Michaels equations with fibrils stuck to sides of tube. The fibrils are predicted to attach on the sides, leaving their endpoints exposed. <br>\n",
    "Fibril concentration ($moles/dm^3$) = 2 * areal_fibril_concentration ($moles/dm^2$) / tube_radius ($dm$) = fc <br>\n",
    "Average time for the solution to pass through the pipe ($s$) = t (=tube length / average velocity) <br>\n",
    "monomer concentration ($moles / dm^3$) = mc <br>"
   ]
  },
  {
   "cell_type": "code",
   "execution_count": 63,
   "metadata": {},
   "outputs": [],
   "source": [
    "import numpy as np\n",
    "import pandas as pd\n",
    "\n",
    "def runge_kutta(t, mc, fc, **kwargs):\n",
    "    \n",
    "    rate_constants = {'k_oligo1':6.6*10**-11, 'k_oligo2':2, 'k_conv' : 1.9*10**9, 'k_e':9.7*10**-5, 'k_plus':3*10**6}\n",
    "    \n",
    "    for k, val in kwargs.items():\n",
    "        if k in rate_constants:\n",
    "            rate_constants[k] = val\n",
    "        else:\n",
    "            print('ValueError: Some of the rate constants dont exist. The rate constants are;')\n",
    "            print(pd.Series(rate_constants))\n",
    "            return None\n",
    "            \n",
    "    fibrill_array = []\n",
    "    oligo_array = []\n",
    "    \n",
    "    dt = 0.5\n",
    "    m0 = mc\n",
    "    n1 = 0.3\n",
    "    n2 = 0.9\n",
    "    nt = 2.7\n",
    "    k1, k2, k_plus, kt, kd = rate_constants['k_oligo1'], rate_constants['k_oligo2'], rate_constants['k_plus'], rate_constants['k_conv'], rate_constants['k_e']\n",
    "    o = 0\n",
    "    f = fc\n",
    "    p = fc/28000\n",
    "    \n",
    "    def do_dt(O,F,M):\n",
    "        return k1*M**n1+k2*M**n2*F-(kd+kt*M**nt)*O\n",
    "    def df_dt(P, M):\n",
    "        return 2*k_plus*M*P #The *2 here relates to the two ends of the fibrill, if one can expect the fibril to be attached to the surface with one of it's ends this equation will change\n",
    "    def dp_dt(O, M):\n",
    "        return kt*M**nt*O\n",
    "    \n",
    "    \n",
    "    for i in range(0,int(t/dt)):\n",
    "        if o < 0:\n",
    "            o = 0\n",
    "        os = []\n",
    "        fs = []\n",
    "        ps = []\n",
    "        m = m0 - f - o\n",
    "        if m < 0:\n",
    "            m = 0\n",
    "\n",
    "        os.append(do_dt(o, f, m))\n",
    "        ps.append(dp_dt(o, m))\n",
    "        fs.append(df_dt(p, m))\n",
    "        \n",
    "        for j in range(2):\n",
    "            m = m0 - (f+fs[-1]*dt/2) - (o+os[-1]*dt/2)\n",
    "            if m < 0:\n",
    "                m = 0\n",
    "            os.append(do_dt(o+os[-1]*dt/2, f+fs[-1]*dt/2, m))\n",
    "            ps.append(dp_dt(o + os[-1]*dt/2, m))\n",
    "            fs.append(df_dt(p + ps[-1]*dt/2,m))\n",
    "        \n",
    "        m = m0 - (f+fs[-1]*dt) - (o+os[-1]*dt)\n",
    "        if m < 0:\n",
    "            m = 0\n",
    "        os.append(do_dt(o+os[-1]*dt, f+fs[-1]*dt, m))\n",
    "        ps.append(dp_dt(o + os[-1]*dt, m))\n",
    "        fs.append(df_dt(p + ps[-1]*dt, m))\n",
    "        \n",
    "        o += (os[0] + 2*os[1] + 2*os[2] + os[3])/6*dt\n",
    "        p += (ps[0] + 2*ps[1] + 2*ps[2] + ps[3])/6*dt\n",
    "        f += (fs[0] + 2*fs[1] + 2*fs[2] + fs[3])/6*dt\n",
    "\n",
    "    return (m, o)"
   ]
  },
  {
   "cell_type": "markdown",
   "metadata": {},
   "source": [
    "This is truely the simplest of cases, when we assume that the fluidic experiment, on a molecular scale, is similar to the oligomerisation with fibrils in solution under quiscent conditions. The simulation is easy to adjust for other cases though, such as: <br>\n",
    "\\- Fibrils attaching to surfaces with their endpoints <br>\n",
    "\\- The fibril length being much smaller than the tube radius <br>\n",
    "\\- Other geometries (not tubes) <br>\n",
    "\\- High pressure systems (high velocity = different mechanics) <br>\n",
    "etc"
   ]
  },
  {
   "cell_type": "code",
   "execution_count": 64,
   "metadata": {},
   "outputs": [
    {
     "name": "stdout",
     "output_type": "stream",
     "text": [
      "Monomer concentration post experiment = 3.93282526716744e-06 \n",
      "Oligomer concentration post experiment = 1.6295138652104801e-07\n",
      "\n",
      "\n",
      "\n",
      "Monomer concentration post experiment = 1.4868665552852016e-05 \n",
      "Oligomer concentration post experiment = 1.313344471476593e-07\n",
      "\n",
      "\n",
      "\n",
      "ValueError: Some of the rate constants dont exist. The rate constants are;\n",
      "k_oligo1    6.600000e-11\n",
      "k_oligo2    2.000000e+00\n",
      "k_conv      1.900000e+09\n",
      "k_e         9.700000e-05\n",
      "k_plus      3.000000e+06\n",
      "dtype: float64\n",
      "None\n"
     ]
    }
   ],
   "source": [
    "#Example for t = 5 min (=300 s), mc = 20 muM, fc = 5 muM\n",
    "print('Monomer concentration post experiment = %s \\nOligomer concentration post experiment = %s' % runge_kutta(300, 20*10**-6, 5*10**-6))\n",
    "print('\\n\\n')\n",
    "#Added the option to redefine rate constants for fun.\n",
    "print('Monomer concentration post experiment = %s \\nOligomer concentration post experiment = %s' %runge_kutta(300, 20*10**-6, 5*10**-6, k_plus = 0)) #If there is no addition of monomers to fibrils\n",
    "print('\\n\\n')\n",
    "print(runge_kutta(300, 20*10**-6, 5*10**-6, Gibberish = 1)) #Displays error message with all possible rate parameters"
   ]
  }
 ],
 "metadata": {
  "kernelspec": {
   "display_name": "Python 3",
   "language": "python",
   "name": "python3"
  },
  "language_info": {
   "codemirror_mode": {
    "name": "ipython",
    "version": 3
   },
   "file_extension": ".py",
   "mimetype": "text/x-python",
   "name": "python",
   "nbconvert_exporter": "python",
   "pygments_lexer": "ipython3",
   "version": "3.6.5"
  }
 },
 "nbformat": 4,
 "nbformat_minor": 2
}
